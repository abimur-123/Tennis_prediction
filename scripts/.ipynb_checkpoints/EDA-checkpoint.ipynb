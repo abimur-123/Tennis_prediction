{
 "cells": [
  {
   "cell_type": "code",
   "execution_count": 204,
   "metadata": {
    "collapsed": true
   },
   "outputs": [],
   "source": [
    "## Manual changes - Renamed ROUNDS to rounds in Wimbeldon women's file\n",
    "#Renamed ST1.1 for Wimbeldon women's file as there were 2 columns with the same name\n",
    "#Renamed ST2.1 for US women's file as there were 2 columns with the same name\n",
    "#Figure out how to do this in an automated manner"
   ]
  },
  {
   "cell_type": "code",
   "execution_count": 205,
   "metadata": {
    "collapsed": true
   },
   "outputs": [],
   "source": [
    "# Player 1 Name of Player 1 \n",
    "# Player 2 Name of Player 2 \n",
    "# Result Result of the match (0/1) - Referenced on Player 1 is Result = 1 if Player 1 wins (FNL.1>FNL.2) \n",
    "# FSP.1 First Serve Percentage for player 1 (Real Number) \n",
    "# FSW.1 First Serve Won by player 1 (Real Number) \n",
    "# SSP.1 Second Serve Percentage for player 1 (Real Number) \n",
    "# SSW.1 Second Serve Won by player 1 (Real Number) \n",
    "# ACE.1 Aces won by player 1 (Numeric-Integer) \n",
    "# DBF.1 Double Faults committed by player 1 (Numeric-Integer) \n",
    "# WNR.1 Winners earned by player 1 (Numeric) \n",
    "# UFE.1 Unforced Errors committed by player 1 (Numeric) \n",
    "# BPC.1 Break Points Created by player 1 (Numeric) \n",
    "# BPW.1 Break Points Won by player 1 (Numeric) \n",
    "# NPA.1 Net Points Attempted by player 1 (Numeric) \n",
    "# NPW.1 Net Points Won by player 1 (Numeric) \n",
    "# TPW.1 Total Points Won by player 1 (Numeric) \n",
    "# ST1.1 Set 1 result for Player 1 (Numeric-Integer) \n",
    "# ST2.1 Set 2 Result for Player 1 (Numeric-Integer) \n",
    "# ST3.1 Set 3 Result for Player 1 (Numeric-Integer) \n",
    "# ST4.1 Set 4 Result for Player 1 (Numeric-Integer) \n",
    "# ST5.1 Set 5 Result for Player 1 (Numeric-Integer) \n",
    "# FNL.1 Final Number of Games Won by Player 1 (Numeric-Integer) \n",
    "# FSP.2 First Serve Percentage for player 2 (Real Number) \n",
    "# FSW.2 First Serve Won by player 2 (Real Number) \n",
    "# SSP.2 Second Serve Percentage for player 2 (Real Number) \n",
    "# SSW.2 Second Serve Won by player 2 (Real Number) \n",
    "# ACE.2 Aces won by player 2 (Numeric-Integer) \n",
    "# DBF.2 Double Faults committed by player 2 (Numeric-Integer) \n",
    "# WNR.2 Winners earned by player 2 (Numeric) \n",
    "# UFE.2 Unforced Errors committed by player 2 (Numeric) \n",
    "# BPC.2 Break Points Created by player 2 (Numeric) \n",
    "# BPW.2 Break Points Won by player 2 (Numeric) \n",
    "# NPA.2 Net Points Attempted by player 2 (Numeric) \n",
    "# NPW.2 Net Points Won by player 2 (Numeric) \n",
    "# TPW.2 Total Points Won by player 2 (Numeric) \n",
    "# ST1.2 Set 1 result for Player 2 (Numeric-Integer) \n",
    "# ST2.2 Set 2 Result for Player 2 (Numeric-Integer) \n",
    "# ST3.2 Set 3 Result for Player 2 (Numeric-Integer) \n",
    "# ST4.2 Set 4 Result for Player 2 (Numeric-Integer) \n",
    "# ST5.2 Set 5 Result for Player 2 (Numeric-Integer) \n",
    "# FNL.2 Final Number of Games Won by Player 2 (Numeric-Integer) \n",
    "# Round Round of the tournament at which game is played (Numeric-Integer) \n",
    "\n",
    "# ACE.1         22\n",
    "# ACE.2         22\n",
    "# BPC.1          0\n",
    "# BPC.2          0\n",
    "# BPW.1          0\n",
    "# BPW.2          0\n",
    "# DBF.1          6\n",
    "# DBF.2          6\n",
    "# FNL.1        372\n",
    "# FNL.2        372\n",
    "# FNL1         560\n",
    "# FNL2         560\n",
    "# FSP.1          0\n",
    "# FSP.2          0\n",
    "# FSW.1          0\n",
    "# FSW.2          0\n",
    "# NPA.1         83\n",
    "# NPA.2         83\n",
    "# NPW.1         82\n",
    "# NPW.2         82\n",
    "# Result         0\n",
    "# Round          0\n",
    "# SSP.1          0\n",
    "# SSP.2          0\n",
    "# SSW.1          0\n",
    "# SSW.2          0\n",
    "# Sex            0\n",
    "# TPW.1        312\n",
    "# TPW.2        312\n",
    "# UFE.1        125\n",
    "# UFE.2        125\n",
    "# WNR.1        125\n",
    "# WNR.2        125\n",
    "# slam_code      0\n",
    "# ST1            0\n",
    "# ST2            0\n",
    "# ST3            0\n",
    "# ST4            0\n",
    "# ST5            0\n",
    "# dtype: int64\n"
   ]
  },
  {
   "cell_type": "markdown",
   "metadata": {},
   "source": [
    "# IMPORT"
   ]
  },
  {
   "cell_type": "code",
   "execution_count": 206,
   "metadata": {},
   "outputs": [],
   "source": [
    "import os\n",
    "import numpy as np\n",
    "import random\n",
    "import pandas as pd\n",
    "import matplotlib.pyplot as plt\n",
    "import seaborn as sns\n",
    "import math\n",
    "%matplotlib inline\n",
    "\n",
    "import sklearn.neighbors as neighbors\n",
    "from sklearn.decomposition import TruncatedSVD\n",
    "from sklearn import manifold\n",
    "from sklearn.model_selection import train_test_split\n",
    "from sklearn.utils import shuffle\n",
    "from sklearn.feature_selection import RFE\n",
    "from sklearn.linear_model import LogisticRegression\n",
    "from sklearn.preprocessing import StandardScaler\n",
    "from sklearn.grid_search import GridSearchCV\n",
    "from sklearn.ensemble import RandomForestClassifier"
   ]
  },
  {
   "cell_type": "code",
   "execution_count": 207,
   "metadata": {
    "collapsed": true
   },
   "outputs": [],
   "source": [
    "# Code - aus:1 french open:2 wimbeldon:3 and Us open:4\n",
    "# 1 for women and 2 for Men\n",
    "# Result : 1 for player winning and 0 for him/her losing\n",
    "aus_men = pd.read_csv(\"../data/AusOpen-men-2013.csv\")\n",
    "aus_women = pd.read_csv(\"../data/AusOpen-women-2013.csv\")\n",
    "aus_men['slam_code'] = 1\n",
    "aus_women['slam_code'] = 1\n",
    "aus_women['Sex'] = 1\n",
    "aus_men['Sex'] = 2\n",
    "\n",
    "\n",
    "fre_men = pd.read_csv(\"../data/FrenchOpen-men-2013.csv\")\n",
    "fre_women = pd.read_csv(\"../data/FrenchOpen-women-2013.csv\")\n",
    "fre_men['slam_code'] = 2\n",
    "fre_women['slam_code'] = 2\n",
    "fre_women['Sex'] = 1\n",
    "fre_men['Sex'] = 2\n",
    "\n",
    "wim_men = pd.read_csv(\"../data/Wimbledon-men-2013.csv\")\n",
    "wim_women = pd.read_csv(\"../data/Wimbledon-women-2013.csv\")\n",
    "wim_men['slam_code'] = 3\n",
    "wim_women['slam_code'] = 3\n",
    "wim_women['Sex'] = 1\n",
    "wim_men['Sex'] = 2\n",
    "\n",
    "us_men = pd.read_csv(\"../data/USOpen-men-2013.csv\")\n",
    "us_women = pd.read_csv(\"../data/USOpen-women-2013.csv\")\n",
    "us_men['slam_code'] = 4\n",
    "us_women['slam_code'] = 4\n",
    "us_women['Sex'] = 1\n",
    "us_men['Sex'] = 2"
   ]
  },
  {
   "cell_type": "markdown",
   "metadata": {},
   "source": [
    "# CLEANSING"
   ]
  },
  {
   "cell_type": "code",
   "execution_count": 208,
   "metadata": {
    "collapsed": true
   },
   "outputs": [],
   "source": [
    "aus_men = aus_men.rename(columns={'FNL1': 'FNL.1', 'FNL2': 'FNL.2'})\n",
    "aus_women = aus_women.rename(columns={'FNL1': 'FNL.1', 'FNL2': 'FNL.2'})"
   ]
  },
  {
   "cell_type": "code",
   "execution_count": 209,
   "metadata": {
    "collapsed": true
   },
   "outputs": [],
   "source": [
    "us_men = us_men.rename(columns={'FNL1': 'FNL.1', 'FNL2': 'FNL.2'})\n",
    "us_women = us_women.rename(columns={'Player 1': 'Player1', 'Player 2': 'Player2'})"
   ]
  },
  {
   "cell_type": "code",
   "execution_count": 210,
   "metadata": {
    "collapsed": true
   },
   "outputs": [],
   "source": [
    "frames = [aus_men, fre_men, wim_men, us_men, aus_women, fre_women, wim_women, us_women]\n",
    "tennis_merge = pd.concat(frames)"
   ]
  },
  {
   "cell_type": "code",
   "execution_count": 211,
   "metadata": {
    "scrolled": false
   },
   "outputs": [
    {
     "data": {
      "text/plain": [
       "Index(['FNL.1', 'FNL.2', 'ACE.1', 'DBF.1', 'WNR.1', 'UFE.1', 'BPC.1', 'BPW.1',\n",
       "       'NPA.1', 'NPW.1', 'TPW.1', 'ST1.1', 'ST2.1', 'ST3.1', 'ST4.1', 'ST5.1',\n",
       "       'ACE.2', 'DBF.2', 'WNR.2', 'UFE.2', 'BPC.2', 'BPW.2', 'NPA.2', 'NPW.2',\n",
       "       'TPW.2', 'ST1.2', 'ST2.2', 'ST3.2', 'ST4.2', 'ST5.2'],\n",
       "      dtype='object')"
      ]
     },
     "execution_count": 211,
     "metadata": {},
     "output_type": "execute_result"
    }
   ],
   "source": [
    "tennis_merge.columns[tennis_merge.isnull().any()]"
   ]
  },
  {
   "cell_type": "code",
   "execution_count": 212,
   "metadata": {
    "scrolled": true
   },
   "outputs": [
    {
     "data": {
      "text/html": [
       "<div>\n",
       "<style>\n",
       "    .dataframe thead tr:only-child th {\n",
       "        text-align: right;\n",
       "    }\n",
       "\n",
       "    .dataframe thead th {\n",
       "        text-align: left;\n",
       "    }\n",
       "\n",
       "    .dataframe tbody tr th {\n",
       "        vertical-align: top;\n",
       "    }\n",
       "</style>\n",
       "<table border=\"1\" class=\"dataframe\">\n",
       "  <thead>\n",
       "    <tr style=\"text-align: right;\">\n",
       "      <th></th>\n",
       "      <th>Player1</th>\n",
       "      <th>Player2</th>\n",
       "      <th>Round</th>\n",
       "      <th>Result</th>\n",
       "      <th>FNL.1</th>\n",
       "      <th>FNL.2</th>\n",
       "      <th>FSP.1</th>\n",
       "      <th>FSW.1</th>\n",
       "      <th>SSP.1</th>\n",
       "      <th>SSW.1</th>\n",
       "      <th>...</th>\n",
       "      <th>NPA.2</th>\n",
       "      <th>NPW.2</th>\n",
       "      <th>TPW.2</th>\n",
       "      <th>ST1.2</th>\n",
       "      <th>ST2.2</th>\n",
       "      <th>ST3.2</th>\n",
       "      <th>ST4.2</th>\n",
       "      <th>ST5.2</th>\n",
       "      <th>slam_code</th>\n",
       "      <th>Sex</th>\n",
       "    </tr>\n",
       "  </thead>\n",
       "  <tbody>\n",
       "    <tr>\n",
       "      <th>0</th>\n",
       "      <td>Lukas Lacko</td>\n",
       "      <td>Novak Djokovic</td>\n",
       "      <td>1</td>\n",
       "      <td>0</td>\n",
       "      <td>0.0</td>\n",
       "      <td>3.0</td>\n",
       "      <td>61</td>\n",
       "      <td>35</td>\n",
       "      <td>39</td>\n",
       "      <td>18</td>\n",
       "      <td>...</td>\n",
       "      <td>8.0</td>\n",
       "      <td>9.0</td>\n",
       "      <td>101.0</td>\n",
       "      <td>6.0</td>\n",
       "      <td>7.0</td>\n",
       "      <td>6.0</td>\n",
       "      <td>NaN</td>\n",
       "      <td>NaN</td>\n",
       "      <td>1</td>\n",
       "      <td>2</td>\n",
       "    </tr>\n",
       "    <tr>\n",
       "      <th>1</th>\n",
       "      <td>Leonardo Mayer</td>\n",
       "      <td>Albert Montanes</td>\n",
       "      <td>1</td>\n",
       "      <td>1</td>\n",
       "      <td>3.0</td>\n",
       "      <td>0.0</td>\n",
       "      <td>61</td>\n",
       "      <td>31</td>\n",
       "      <td>39</td>\n",
       "      <td>13</td>\n",
       "      <td>...</td>\n",
       "      <td>NaN</td>\n",
       "      <td>NaN</td>\n",
       "      <td>42.0</td>\n",
       "      <td>1.0</td>\n",
       "      <td>3.0</td>\n",
       "      <td>1.0</td>\n",
       "      <td>NaN</td>\n",
       "      <td>NaN</td>\n",
       "      <td>1</td>\n",
       "      <td>2</td>\n",
       "    </tr>\n",
       "    <tr>\n",
       "      <th>2</th>\n",
       "      <td>Marcos Baghdatis</td>\n",
       "      <td>Denis Istomin</td>\n",
       "      <td>1</td>\n",
       "      <td>0</td>\n",
       "      <td>0.0</td>\n",
       "      <td>3.0</td>\n",
       "      <td>52</td>\n",
       "      <td>53</td>\n",
       "      <td>48</td>\n",
       "      <td>20</td>\n",
       "      <td>...</td>\n",
       "      <td>12.0</td>\n",
       "      <td>16.0</td>\n",
       "      <td>126.0</td>\n",
       "      <td>6.0</td>\n",
       "      <td>7.0</td>\n",
       "      <td>6.0</td>\n",
       "      <td>NaN</td>\n",
       "      <td>NaN</td>\n",
       "      <td>1</td>\n",
       "      <td>2</td>\n",
       "    </tr>\n",
       "    <tr>\n",
       "      <th>3</th>\n",
       "      <td>Dmitry Tursunov</td>\n",
       "      <td>Michael Russell</td>\n",
       "      <td>1</td>\n",
       "      <td>1</td>\n",
       "      <td>3.0</td>\n",
       "      <td>0.0</td>\n",
       "      <td>53</td>\n",
       "      <td>39</td>\n",
       "      <td>47</td>\n",
       "      <td>24</td>\n",
       "      <td>...</td>\n",
       "      <td>NaN</td>\n",
       "      <td>NaN</td>\n",
       "      <td>79.0</td>\n",
       "      <td>2.0</td>\n",
       "      <td>2.0</td>\n",
       "      <td>3.0</td>\n",
       "      <td>NaN</td>\n",
       "      <td>NaN</td>\n",
       "      <td>1</td>\n",
       "      <td>2</td>\n",
       "    </tr>\n",
       "    <tr>\n",
       "      <th>4</th>\n",
       "      <td>Juan Monaco</td>\n",
       "      <td>Ernests Gulbis</td>\n",
       "      <td>1</td>\n",
       "      <td>0</td>\n",
       "      <td>1.0</td>\n",
       "      <td>3.0</td>\n",
       "      <td>76</td>\n",
       "      <td>63</td>\n",
       "      <td>24</td>\n",
       "      <td>12</td>\n",
       "      <td>...</td>\n",
       "      <td>16.0</td>\n",
       "      <td>28.0</td>\n",
       "      <td>127.0</td>\n",
       "      <td>1.0</td>\n",
       "      <td>6.0</td>\n",
       "      <td>7.0</td>\n",
       "      <td>6.0</td>\n",
       "      <td>NaN</td>\n",
       "      <td>1</td>\n",
       "      <td>2</td>\n",
       "    </tr>\n",
       "  </tbody>\n",
       "</table>\n",
       "<p>5 rows × 44 columns</p>\n",
       "</div>"
      ],
      "text/plain": [
       "            Player1          Player2  Round  Result  FNL.1  FNL.2  FSP.1  \\\n",
       "0       Lukas Lacko   Novak Djokovic      1       0    0.0    3.0     61   \n",
       "1    Leonardo Mayer  Albert Montanes      1       1    3.0    0.0     61   \n",
       "2  Marcos Baghdatis    Denis Istomin      1       0    0.0    3.0     52   \n",
       "3   Dmitry Tursunov  Michael Russell      1       1    3.0    0.0     53   \n",
       "4       Juan Monaco   Ernests Gulbis      1       0    1.0    3.0     76   \n",
       "\n",
       "   FSW.1  SSP.1  SSW.1 ...   NPA.2  NPW.2  TPW.2  ST1.2  ST2.2  ST3.2  ST4.2  \\\n",
       "0     35     39     18 ...     8.0    9.0  101.0    6.0    7.0    6.0    NaN   \n",
       "1     31     39     13 ...     NaN    NaN   42.0    1.0    3.0    1.0    NaN   \n",
       "2     53     48     20 ...    12.0   16.0  126.0    6.0    7.0    6.0    NaN   \n",
       "3     39     47     24 ...     NaN    NaN   79.0    2.0    2.0    3.0    NaN   \n",
       "4     63     24     12 ...    16.0   28.0  127.0    1.0    6.0    7.0    6.0   \n",
       "\n",
       "   ST5.2  slam_code  Sex  \n",
       "0    NaN          1    2  \n",
       "1    NaN          1    2  \n",
       "2    NaN          1    2  \n",
       "3    NaN          1    2  \n",
       "4    NaN          1    2  \n",
       "\n",
       "[5 rows x 44 columns]"
      ]
     },
     "execution_count": 212,
     "metadata": {},
     "output_type": "execute_result"
    }
   ],
   "source": [
    "tennis_merge.head()"
   ]
  },
  {
   "cell_type": "code",
   "execution_count": 213,
   "metadata": {
    "collapsed": true
   },
   "outputs": [],
   "source": [
    "#Source:https://stackoverflow.com/a/39237712\n",
    "\n",
    "tennis_merge = tennis_merge.reindex(\n",
    "    columns = (['Player1','Player2'] + \n",
    "               list([a for a in tennis_merge.columns if a not in ('Player1','Player2')]\n",
    "                   ) \n",
    "              )\n",
    ")"
   ]
  },
  {
   "cell_type": "code",
   "execution_count": 214,
   "metadata": {
    "scrolled": true
   },
   "outputs": [
    {
     "data": {
      "text/html": [
       "<div>\n",
       "<style>\n",
       "    .dataframe thead tr:only-child th {\n",
       "        text-align: right;\n",
       "    }\n",
       "\n",
       "    .dataframe thead th {\n",
       "        text-align: left;\n",
       "    }\n",
       "\n",
       "    .dataframe tbody tr th {\n",
       "        vertical-align: top;\n",
       "    }\n",
       "</style>\n",
       "<table border=\"1\" class=\"dataframe\">\n",
       "  <thead>\n",
       "    <tr style=\"text-align: right;\">\n",
       "      <th></th>\n",
       "      <th>Player1</th>\n",
       "      <th>Player2</th>\n",
       "      <th>Round</th>\n",
       "      <th>Result</th>\n",
       "      <th>FNL.1</th>\n",
       "      <th>FNL.2</th>\n",
       "      <th>FSP.1</th>\n",
       "      <th>FSW.1</th>\n",
       "      <th>SSP.1</th>\n",
       "      <th>SSW.1</th>\n",
       "      <th>...</th>\n",
       "      <th>NPA.2</th>\n",
       "      <th>NPW.2</th>\n",
       "      <th>TPW.2</th>\n",
       "      <th>ST1.2</th>\n",
       "      <th>ST2.2</th>\n",
       "      <th>ST3.2</th>\n",
       "      <th>ST4.2</th>\n",
       "      <th>ST5.2</th>\n",
       "      <th>slam_code</th>\n",
       "      <th>Sex</th>\n",
       "    </tr>\n",
       "  </thead>\n",
       "  <tbody>\n",
       "    <tr>\n",
       "      <th>7</th>\n",
       "      <td>Fabio Fognini</td>\n",
       "      <td>Alex Bogomolov Jr.</td>\n",
       "      <td>1</td>\n",
       "      <td>1</td>\n",
       "      <td>2.0</td>\n",
       "      <td>0.0</td>\n",
       "      <td>47</td>\n",
       "      <td>18</td>\n",
       "      <td>53</td>\n",
       "      <td>15</td>\n",
       "      <td>...</td>\n",
       "      <td>8.0</td>\n",
       "      <td>12.0</td>\n",
       "      <td>61.0</td>\n",
       "      <td>3.0</td>\n",
       "      <td>2.0</td>\n",
       "      <td>NaN</td>\n",
       "      <td>NaN</td>\n",
       "      <td>NaN</td>\n",
       "      <td>1</td>\n",
       "      <td>2</td>\n",
       "    </tr>\n",
       "    <tr>\n",
       "      <th>15</th>\n",
       "      <td>Stanislas Wawrinka</td>\n",
       "      <td>Andrey Golubev</td>\n",
       "      <td>1</td>\n",
       "      <td>1</td>\n",
       "      <td>2.0</td>\n",
       "      <td>0.0</td>\n",
       "      <td>63</td>\n",
       "      <td>20</td>\n",
       "      <td>37</td>\n",
       "      <td>6</td>\n",
       "      <td>...</td>\n",
       "      <td>6.0</td>\n",
       "      <td>12.0</td>\n",
       "      <td>37.0</td>\n",
       "      <td>4.0</td>\n",
       "      <td>1.0</td>\n",
       "      <td>NaN</td>\n",
       "      <td>NaN</td>\n",
       "      <td>NaN</td>\n",
       "      <td>1</td>\n",
       "      <td>2</td>\n",
       "    </tr>\n",
       "    <tr>\n",
       "      <th>24</th>\n",
       "      <td>Guillermo Garcia-Lopez</td>\n",
       "      <td>Tommy Haas</td>\n",
       "      <td>1</td>\n",
       "      <td>1</td>\n",
       "      <td>2.0</td>\n",
       "      <td>0.0</td>\n",
       "      <td>58</td>\n",
       "      <td>27</td>\n",
       "      <td>42</td>\n",
       "      <td>11</td>\n",
       "      <td>...</td>\n",
       "      <td>10.0</td>\n",
       "      <td>10.0</td>\n",
       "      <td>55.0</td>\n",
       "      <td>5.0</td>\n",
       "      <td>2.0</td>\n",
       "      <td>NaN</td>\n",
       "      <td>NaN</td>\n",
       "      <td>NaN</td>\n",
       "      <td>1</td>\n",
       "      <td>2</td>\n",
       "    </tr>\n",
       "    <tr>\n",
       "      <th>40</th>\n",
       "      <td>Martin Klizan</td>\n",
       "      <td>John Isner</td>\n",
       "      <td>1</td>\n",
       "      <td>1</td>\n",
       "      <td>2.0</td>\n",
       "      <td>0.0</td>\n",
       "      <td>54</td>\n",
       "      <td>25</td>\n",
       "      <td>46</td>\n",
       "      <td>21</td>\n",
       "      <td>...</td>\n",
       "      <td>5.0</td>\n",
       "      <td>10.0</td>\n",
       "      <td>52.0</td>\n",
       "      <td>2.0</td>\n",
       "      <td>6.0</td>\n",
       "      <td>NaN</td>\n",
       "      <td>NaN</td>\n",
       "      <td>NaN</td>\n",
       "      <td>1</td>\n",
       "      <td>2</td>\n",
       "    </tr>\n",
       "    <tr>\n",
       "      <th>63</th>\n",
       "      <td>Rafael Nadal</td>\n",
       "      <td>Bernard Tomic</td>\n",
       "      <td>1</td>\n",
       "      <td>1</td>\n",
       "      <td>1.0</td>\n",
       "      <td>0.0</td>\n",
       "      <td>62</td>\n",
       "      <td>14</td>\n",
       "      <td>38</td>\n",
       "      <td>6</td>\n",
       "      <td>...</td>\n",
       "      <td>3.0</td>\n",
       "      <td>5.0</td>\n",
       "      <td>24.0</td>\n",
       "      <td>4.0</td>\n",
       "      <td>NaN</td>\n",
       "      <td>NaN</td>\n",
       "      <td>NaN</td>\n",
       "      <td>NaN</td>\n",
       "      <td>1</td>\n",
       "      <td>2</td>\n",
       "    </tr>\n",
       "    <tr>\n",
       "      <th>59</th>\n",
       "      <td>Alejandro Falla</td>\n",
       "      <td>Grigor Dimitrov</td>\n",
       "      <td>1</td>\n",
       "      <td>0</td>\n",
       "      <td>0.0</td>\n",
       "      <td>2.0</td>\n",
       "      <td>54</td>\n",
       "      <td>10</td>\n",
       "      <td>46</td>\n",
       "      <td>7</td>\n",
       "      <td>...</td>\n",
       "      <td>6.0</td>\n",
       "      <td>7.0</td>\n",
       "      <td>48.0</td>\n",
       "      <td>6.0</td>\n",
       "      <td>1.0</td>\n",
       "      <td>NaN</td>\n",
       "      <td>NaN</td>\n",
       "      <td>NaN</td>\n",
       "      <td>2</td>\n",
       "      <td>2</td>\n",
       "    </tr>\n",
       "    <tr>\n",
       "      <th>91</th>\n",
       "      <td>Dmitry Tursunov</td>\n",
       "      <td>Victor Hanescu</td>\n",
       "      <td>2</td>\n",
       "      <td>0</td>\n",
       "      <td>0.0</td>\n",
       "      <td>2.0</td>\n",
       "      <td>59</td>\n",
       "      <td>31</td>\n",
       "      <td>41</td>\n",
       "      <td>9</td>\n",
       "      <td>...</td>\n",
       "      <td>5.0</td>\n",
       "      <td>6.0</td>\n",
       "      <td>66.0</td>\n",
       "      <td>6.0</td>\n",
       "      <td>6.0</td>\n",
       "      <td>NaN</td>\n",
       "      <td>NaN</td>\n",
       "      <td>NaN</td>\n",
       "      <td>2</td>\n",
       "      <td>2</td>\n",
       "    </tr>\n",
       "    <tr>\n",
       "      <th>65</th>\n",
       "      <td>Guillaume Rufin</td>\n",
       "      <td>Dmitry Tursunov</td>\n",
       "      <td>1</td>\n",
       "      <td>0</td>\n",
       "      <td>0.0</td>\n",
       "      <td>2.0</td>\n",
       "      <td>43</td>\n",
       "      <td>14</td>\n",
       "      <td>57</td>\n",
       "      <td>12</td>\n",
       "      <td>...</td>\n",
       "      <td>NaN</td>\n",
       "      <td>NaN</td>\n",
       "      <td>51.0</td>\n",
       "      <td>7.0</td>\n",
       "      <td>1.0</td>\n",
       "      <td>NaN</td>\n",
       "      <td>NaN</td>\n",
       "      <td>NaN</td>\n",
       "      <td>4</td>\n",
       "      <td>2</td>\n",
       "    </tr>\n",
       "  </tbody>\n",
       "</table>\n",
       "<p>8 rows × 44 columns</p>\n",
       "</div>"
      ],
      "text/plain": [
       "                   Player1             Player2  Round  Result  FNL.1  FNL.2  \\\n",
       "7            Fabio Fognini  Alex Bogomolov Jr.      1       1    2.0    0.0   \n",
       "15      Stanislas Wawrinka      Andrey Golubev      1       1    2.0    0.0   \n",
       "24  Guillermo Garcia-Lopez          Tommy Haas      1       1    2.0    0.0   \n",
       "40           Martin Klizan          John Isner      1       1    2.0    0.0   \n",
       "63            Rafael Nadal       Bernard Tomic      1       1    1.0    0.0   \n",
       "59         Alejandro Falla     Grigor Dimitrov      1       0    0.0    2.0   \n",
       "91         Dmitry Tursunov      Victor Hanescu      2       0    0.0    2.0   \n",
       "65         Guillaume Rufin     Dmitry Tursunov      1       0    0.0    2.0   \n",
       "\n",
       "    FSP.1  FSW.1  SSP.1  SSW.1 ...   NPA.2  NPW.2  TPW.2  ST1.2  ST2.2  ST3.2  \\\n",
       "7      47     18     53     15 ...     8.0   12.0   61.0    3.0    2.0    NaN   \n",
       "15     63     20     37      6 ...     6.0   12.0   37.0    4.0    1.0    NaN   \n",
       "24     58     27     42     11 ...    10.0   10.0   55.0    5.0    2.0    NaN   \n",
       "40     54     25     46     21 ...     5.0   10.0   52.0    2.0    6.0    NaN   \n",
       "63     62     14     38      6 ...     3.0    5.0   24.0    4.0    NaN    NaN   \n",
       "59     54     10     46      7 ...     6.0    7.0   48.0    6.0    1.0    NaN   \n",
       "91     59     31     41      9 ...     5.0    6.0   66.0    6.0    6.0    NaN   \n",
       "65     43     14     57     12 ...     NaN    NaN   51.0    7.0    1.0    NaN   \n",
       "\n",
       "    ST4.2  ST5.2  slam_code  Sex  \n",
       "7     NaN    NaN          1    2  \n",
       "15    NaN    NaN          1    2  \n",
       "24    NaN    NaN          1    2  \n",
       "40    NaN    NaN          1    2  \n",
       "63    NaN    NaN          1    2  \n",
       "59    NaN    NaN          2    2  \n",
       "91    NaN    NaN          2    2  \n",
       "65    NaN    NaN          4    2  \n",
       "\n",
       "[8 rows x 44 columns]"
      ]
     },
     "execution_count": 214,
     "metadata": {},
     "output_type": "execute_result"
    }
   ],
   "source": [
    "#Abandoned games men\n",
    "tennis_merge[(tennis_merge['ST3.1'].isnull()) & (tennis_merge['Sex'] == 2)]"
   ]
  },
  {
   "cell_type": "code",
   "execution_count": 215,
   "metadata": {
    "scrolled": false
   },
   "outputs": [
    {
     "data": {
      "text/html": [
       "<div>\n",
       "<style>\n",
       "    .dataframe thead tr:only-child th {\n",
       "        text-align: right;\n",
       "    }\n",
       "\n",
       "    .dataframe thead th {\n",
       "        text-align: left;\n",
       "    }\n",
       "\n",
       "    .dataframe tbody tr th {\n",
       "        vertical-align: top;\n",
       "    }\n",
       "</style>\n",
       "<table border=\"1\" class=\"dataframe\">\n",
       "  <thead>\n",
       "    <tr style=\"text-align: right;\">\n",
       "      <th></th>\n",
       "      <th>Player1</th>\n",
       "      <th>Player2</th>\n",
       "      <th>Round</th>\n",
       "      <th>Result</th>\n",
       "      <th>FNL.1</th>\n",
       "      <th>FNL.2</th>\n",
       "      <th>FSP.1</th>\n",
       "      <th>FSW.1</th>\n",
       "      <th>SSP.1</th>\n",
       "      <th>SSW.1</th>\n",
       "      <th>...</th>\n",
       "      <th>NPA.2</th>\n",
       "      <th>NPW.2</th>\n",
       "      <th>TPW.2</th>\n",
       "      <th>ST1.2</th>\n",
       "      <th>ST2.2</th>\n",
       "      <th>ST3.2</th>\n",
       "      <th>ST4.2</th>\n",
       "      <th>ST5.2</th>\n",
       "      <th>slam_code</th>\n",
       "      <th>Sex</th>\n",
       "    </tr>\n",
       "  </thead>\n",
       "  <tbody>\n",
       "    <tr>\n",
       "      <th>44</th>\n",
       "      <td>Alize Cornet</td>\n",
       "      <td>Polona Hercog</td>\n",
       "      <td>1</td>\n",
       "      <td>0</td>\n",
       "      <td>NaN</td>\n",
       "      <td>NaN</td>\n",
       "      <td>75</td>\n",
       "      <td>3</td>\n",
       "      <td>25</td>\n",
       "      <td>1</td>\n",
       "      <td>...</td>\n",
       "      <td>0.0</td>\n",
       "      <td>0.0</td>\n",
       "      <td>1.0</td>\n",
       "      <td>NaN</td>\n",
       "      <td>NaN</td>\n",
       "      <td>NaN</td>\n",
       "      <td>NaN</td>\n",
       "      <td>NaN</td>\n",
       "      <td>1</td>\n",
       "      <td>1</td>\n",
       "    </tr>\n",
       "    <tr>\n",
       "      <th>76</th>\n",
       "      <td>Ashleigh Barty</td>\n",
       "      <td>Maria Kirilenko</td>\n",
       "      <td>2</td>\n",
       "      <td>0</td>\n",
       "      <td>0.0</td>\n",
       "      <td>1.0</td>\n",
       "      <td>61</td>\n",
       "      <td>6</td>\n",
       "      <td>39</td>\n",
       "      <td>4</td>\n",
       "      <td>...</td>\n",
       "      <td>5.0</td>\n",
       "      <td>6.0</td>\n",
       "      <td>18.0</td>\n",
       "      <td>3.0</td>\n",
       "      <td>NaN</td>\n",
       "      <td>NaN</td>\n",
       "      <td>NaN</td>\n",
       "      <td>NaN</td>\n",
       "      <td>2</td>\n",
       "      <td>1</td>\n",
       "    </tr>\n",
       "    <tr>\n",
       "      <th>77</th>\n",
       "      <td>Kaia Kanepi</td>\n",
       "      <td>Stefanie Voegele</td>\n",
       "      <td>2</td>\n",
       "      <td>1</td>\n",
       "      <td>1.0</td>\n",
       "      <td>0.0</td>\n",
       "      <td>71</td>\n",
       "      <td>20</td>\n",
       "      <td>29</td>\n",
       "      <td>5</td>\n",
       "      <td>...</td>\n",
       "      <td>4.0</td>\n",
       "      <td>6.0</td>\n",
       "      <td>39.0</td>\n",
       "      <td>5.0</td>\n",
       "      <td>NaN</td>\n",
       "      <td>NaN</td>\n",
       "      <td>NaN</td>\n",
       "      <td>NaN</td>\n",
       "      <td>2</td>\n",
       "      <td>1</td>\n",
       "    </tr>\n",
       "  </tbody>\n",
       "</table>\n",
       "<p>3 rows × 44 columns</p>\n",
       "</div>"
      ],
      "text/plain": [
       "           Player1           Player2  Round  Result  FNL.1  FNL.2  FSP.1  \\\n",
       "44    Alize Cornet     Polona Hercog      1       0    NaN    NaN     75   \n",
       "76  Ashleigh Barty   Maria Kirilenko      2       0    0.0    1.0     61   \n",
       "77     Kaia Kanepi  Stefanie Voegele      2       1    1.0    0.0     71   \n",
       "\n",
       "    FSW.1  SSP.1  SSW.1 ...   NPA.2  NPW.2  TPW.2  ST1.2  ST2.2  ST3.2  ST4.2  \\\n",
       "44      3     25      1 ...     0.0    0.0    1.0    NaN    NaN    NaN    NaN   \n",
       "76      6     39      4 ...     5.0    6.0   18.0    3.0    NaN    NaN    NaN   \n",
       "77     20     29      5 ...     4.0    6.0   39.0    5.0    NaN    NaN    NaN   \n",
       "\n",
       "    ST5.2  slam_code  Sex  \n",
       "44    NaN          1    1  \n",
       "76    NaN          2    1  \n",
       "77    NaN          2    1  \n",
       "\n",
       "[3 rows x 44 columns]"
      ]
     },
     "execution_count": 215,
     "metadata": {},
     "output_type": "execute_result"
    }
   ],
   "source": [
    "#Abandoned games women\n",
    "tennis_merge[(tennis_merge['ST2.1'].isnull()) & (tennis_merge['Sex'] == 1)]"
   ]
  },
  {
   "cell_type": "code",
   "execution_count": 216,
   "metadata": {
    "collapsed": true
   },
   "outputs": [],
   "source": [
    "## Removing abandoned games\n",
    "tennis_merge = tennis_merge[-((tennis_merge['ST3.1'].isnull()) & (tennis_merge['Sex'] == 2))] #For men\n",
    "\n",
    "tennis_merge = tennis_merge[-((tennis_merge['ST2.1'].isnull()) & (tennis_merge['Sex'] == 1))] #For women"
   ]
  },
  {
   "cell_type": "code",
   "execution_count": 217,
   "metadata": {
    "collapsed": true
   },
   "outputs": [],
   "source": [
    "## Feature engineering1: Find difference between games won in sets as this would indicate who won the set\n",
    "# If positive: Player 1 wins the set Else Player 2\n",
    "# The value is NaN if the set did not occur, in which case we set it to 0(0 can never occur otherwise)\n",
    "tennis_merge['ST1'] = tennis_merge['ST1.1'] - tennis_merge['ST1.2']\n",
    "tennis_merge['ST2'] = tennis_merge['ST2.1'] - tennis_merge['ST2.2']\n",
    "tennis_merge['ST3'] = tennis_merge['ST3.1'] - tennis_merge['ST3.2']\n",
    "tennis_merge['ST4'] = tennis_merge['ST4.1'] - tennis_merge['ST4.2']\n",
    "tennis_merge['ST5'] = tennis_merge['ST5.1'] - tennis_merge['ST5.2']\n"
   ]
  },
  {
   "cell_type": "code",
   "execution_count": 218,
   "metadata": {
    "collapsed": true
   },
   "outputs": [],
   "source": [
    "## Replace NaN with 0s\n",
    "tennis_merge['ST3'].fillna(0, inplace=True)\n",
    "tennis_merge['ST4'].fillna(0, inplace=True)\n",
    "tennis_merge['ST5'].fillna(0, inplace=True)"
   ]
  },
  {
   "cell_type": "code",
   "execution_count": 219,
   "metadata": {},
   "outputs": [
    {
     "data": {
      "text/plain": [
       "Index(['Player1', 'Player2', 'Round', 'Result', 'FNL.1', 'FNL.2', 'FSP.1',\n",
       "       'FSW.1', 'SSP.1', 'SSW.1', 'ACE.1', 'DBF.1', 'WNR.1', 'UFE.1', 'BPC.1',\n",
       "       'BPW.1', 'NPA.1', 'NPW.1', 'TPW.1', 'ST1.1', 'ST2.1', 'ST3.1', 'ST4.1',\n",
       "       'ST5.1', 'FSP.2', 'FSW.2', 'SSP.2', 'SSW.2', 'ACE.2', 'DBF.2', 'WNR.2',\n",
       "       'UFE.2', 'BPC.2', 'BPW.2', 'NPA.2', 'NPW.2', 'TPW.2', 'ST1.2', 'ST2.2',\n",
       "       'ST3.2', 'ST4.2', 'ST5.2', 'slam_code', 'Sex', 'ST1', 'ST2', 'ST3',\n",
       "       'ST4', 'ST5'],\n",
       "      dtype='object')"
      ]
     },
     "execution_count": 219,
     "metadata": {},
     "output_type": "execute_result"
    }
   ],
   "source": [
    "tennis_merge.columns"
   ]
  },
  {
   "cell_type": "code",
   "execution_count": 220,
   "metadata": {
    "collapsed": true
   },
   "outputs": [],
   "source": [
    "#removing names of players as we aren't considering ranking here\n",
    "# removing set info cause we have created another column\n",
    "# removing Total points won cause there are too many missing values\n",
    "rem_cols = ['Player1','Player2','TPW.1','TPW.2','FNL.1','FNL.2',\n",
    "            'ST1.1','ST2.1','ST3.1','ST4.1','ST5.1',\n",
    "            'ST1.2','ST2.2','ST3.2','ST4.2','ST5.2','ST1','ST2','ST3','ST4','ST5']\n",
    "\n",
    "tennis_feat = tennis_merge.drop(rem_cols,axis  = 1,inplace = False) #removes columns\n",
    "\n",
    "tennis_feat = shuffle(tennis_feat) #shuffles\n",
    "\n",
    "#convert numeric to categorical\n",
    "col_names = ['Round','slam_code','Sex','Result']\n",
    "for col in col_names:\n",
    "    tennis_feat[col] = tennis_feat[col].astype('category',copy=False)\n",
    "    \n",
    "#Train-test split. 30% for test\n",
    "train,test = train_test_split(tennis_feat,test_size = 0.3)"
   ]
  },
  {
   "cell_type": "code",
   "execution_count": 221,
   "metadata": {
    "scrolled": true
   },
   "outputs": [
    {
     "data": {
      "text/plain": [
       "Round          0\n",
       "BPW.2          0\n",
       "BPC.2          0\n",
       "SSW.2          0\n",
       "SSP.2          0\n",
       "FSW.2          0\n",
       "FSP.2          0\n",
       "slam_code      0\n",
       "BPW.1          0\n",
       "BPC.1          0\n",
       "Sex            0\n",
       "SSW.1          0\n",
       "SSP.1          0\n",
       "FSW.1          0\n",
       "Result         0\n",
       "FSP.1          0\n",
       "DBF.2          6\n",
       "DBF.1          6\n",
       "ACE.1         22\n",
       "ACE.2         22\n",
       "NPW.2         82\n",
       "NPW.1         82\n",
       "NPA.2         83\n",
       "NPA.1         83\n",
       "WNR.2        125\n",
       "UFE.1        125\n",
       "UFE.2        125\n",
       "WNR.1        125\n",
       "dtype: int64"
      ]
     },
     "execution_count": 221,
     "metadata": {},
     "output_type": "execute_result"
    }
   ],
   "source": [
    "tennis_feat[tennis_feat.columns[:]].isnull().sum().sort_values()"
   ]
  },
  {
   "cell_type": "code",
   "execution_count": 222,
   "metadata": {
    "collapsed": true
   },
   "outputs": [],
   "source": [
    "#convert numeric to categorical\n",
    "col_names = ['Round','slam_code','Sex','Result']\n",
    "for col in col_names:\n",
    "    tennis_feat[col] = tennis_feat[col].astype('category',copy=False)\n",
    "    \n"
   ]
  },
  {
   "cell_type": "code",
   "execution_count": 223,
   "metadata": {},
   "outputs": [
    {
     "name": "stdout",
     "output_type": "stream",
     "text": [
      "Median for Winners player 1(MEN) 35.0\n",
      "Median for Winners player 2(MEN) 36.0\n",
      "Median for Ace player 1(WOMEN) 2.0\n",
      "Median for Ace player 2(WOMEN) 2.0\n",
      "Median for Net points attempted 1(WOMEN) 9.0\n",
      "Median for Net points attempted 2(WOMEN) 9.0\n",
      "Median for Net points attempted 1(MEN) 17.0\n",
      "Median for Net points attempted 2(MEN) 18.0\n",
      "Median for Net points won 1(WOMEN) 9.5\n",
      "Median for Net points won 2(WOMEN) 9.0\n",
      "Median for Net points Won 1(MEN) 22.0\n",
      "Median for Net points Won 2(MEN) 22.0\n"
     ]
    }
   ],
   "source": [
    "### Imputing mean values for men and women separately\n",
    "## for columns - ACES, Net point won, Net points attempted, Winners hit and Unforced errors\n",
    "## This is because this usually fluctates around the mean value for men's and women's tennis\n",
    "print(\"Median for Winners player 1(MEN)\",tennis_feat[tennis_feat[\"Sex\"] == 2][\"WNR.1\"].median())\n",
    "print(\"Median for Winners player 2(MEN)\",tennis_feat[tennis_feat[\"Sex\"] == 2][\"WNR.2\"].median())\n",
    "\n",
    "print(\"Median for Ace player 1(WOMEN)\",tennis_feat[tennis_feat[\"Sex\"] == 1][\"ACE.1\"].median())\n",
    "print(\"Median for Ace player 2(WOMEN)\",tennis_feat[tennis_feat[\"Sex\"] == 1][\"ACE.2\"].median())\n",
    "\n",
    "print(\"Median for Net points attempted 1(WOMEN)\",tennis_feat[tennis_feat[\"Sex\"] == 1][\"NPA.1\"].median())\n",
    "print(\"Median for Net points attempted 2(WOMEN)\",tennis_feat[tennis_feat[\"Sex\"] == 1][\"NPA.2\"].median())\n",
    "\n",
    "print(\"Median for Net points attempted 1(MEN)\",tennis_feat[tennis_feat[\"Sex\"] == 2][\"NPA.1\"].median())\n",
    "print(\"Median for Net points attempted 2(MEN)\",tennis_feat[tennis_feat[\"Sex\"] == 2][\"NPA.2\"].median())\n",
    "\n",
    "print(\"Median for Net points won 1(WOMEN)\",tennis_feat[tennis_feat[\"Sex\"] == 1][\"NPW.1\"].median())\n",
    "print(\"Median for Net points won 2(WOMEN)\",tennis_feat[tennis_feat[\"Sex\"] == 1][\"NPW.2\"].median())\n",
    "\n",
    "print(\"Median for Net points Won 1(MEN)\",tennis_feat[tennis_feat[\"Sex\"] == 2][\"NPW.1\"].median())\n",
    "print(\"Median for Net points Won 2(MEN)\",tennis_feat[tennis_feat[\"Sex\"] == 2][\"NPW.2\"].median())"
   ]
  },
  {
   "cell_type": "code",
   "execution_count": 224,
   "metadata": {
    "collapsed": true
   },
   "outputs": [],
   "source": [
    "#src: https://stackoverflow.com/a/21463854\n",
    "tennis_feat[\"NPW.1\"] = tennis_feat[\"NPW.1\"].fillna(round(tennis_feat.groupby(\"Sex\")[\"NPW.1\"].transform(\"median\"),2))\n",
    "tennis_feat[\"NPW.2\"] = tennis_feat[\"NPW.2\"].fillna(round(tennis_feat.groupby(\"Sex\")[\"NPW.2\"].transform(\"median\"),2))\n",
    "\n",
    "tennis_feat[\"NPA.1\"] = tennis_feat[\"NPA.1\"].fillna(tennis_feat.groupby(\"Sex\")[\"NPA.1\"].transform(\"median\"))\n",
    "tennis_feat[\"NPA.2\"] = tennis_feat[\"NPA.2\"].fillna(tennis_feat.groupby(\"Sex\")[\"NPA.2\"].transform(\"median\"))\n",
    "\n",
    "tennis_feat[\"ACE.1\"] = tennis_feat[\"ACE.1\"].fillna(tennis_feat.groupby(\"Sex\")[\"ACE.1\"].transform(\"median\"))\n",
    "tennis_feat[\"ACE.2\"] = tennis_feat[\"ACE.2\"].fillna(tennis_feat.groupby(\"Sex\")[\"ACE.2\"].transform(\"median\"))\n",
    "\n",
    "tennis_feat[\"WNR.1\"] = tennis_feat[\"WNR.1\"].fillna(tennis_feat.groupby(\"Sex\")[\"WNR.1\"].transform(\"median\"))\n",
    "tennis_feat[\"WNR.2\"] = tennis_feat[\"WNR.2\"].fillna(tennis_feat.groupby(\"Sex\")[\"WNR.2\"].transform(\"median\"))\n",
    "\n",
    "tennis_feat[\"DBF.1\"] = tennis_feat[\"DBF.1\"].fillna(tennis_feat.groupby(\"Sex\")[\"DBF.1\"].transform(\"median\"))\n",
    "tennis_feat[\"DBF.2\"] = tennis_feat[\"DBF.2\"].fillna(tennis_feat.groupby(\"Sex\")[\"DBF.2\"].transform(\"median\"))\n",
    "\n",
    "tennis_feat[\"UFE.1\"] = tennis_feat[\"UFE.1\"].fillna(tennis_feat.groupby(\"Sex\")[\"UFE.1\"].transform(\"median\"))\n",
    "tennis_feat[\"UFE.2\"] = tennis_feat[\"UFE.2\"].fillna(tennis_feat.groupby(\"Sex\")[\"UFE.2\"].transform(\"median\"))"
   ]
  },
  {
   "cell_type": "code",
   "execution_count": 225,
   "metadata": {
    "scrolled": true
   },
   "outputs": [
    {
     "data": {
      "text/plain": [
       "Round        0\n",
       "NPW.2        0\n",
       "NPA.2        0\n",
       "BPW.2        0\n",
       "BPC.2        0\n",
       "UFE.2        0\n",
       "WNR.2        0\n",
       "DBF.2        0\n",
       "ACE.2        0\n",
       "SSW.2        0\n",
       "SSP.2        0\n",
       "FSW.2        0\n",
       "FSP.2        0\n",
       "NPW.1        0\n",
       "NPA.1        0\n",
       "BPW.1        0\n",
       "BPC.1        0\n",
       "UFE.1        0\n",
       "WNR.1        0\n",
       "DBF.1        0\n",
       "ACE.1        0\n",
       "SSW.1        0\n",
       "SSP.1        0\n",
       "FSW.1        0\n",
       "FSP.1        0\n",
       "Result       0\n",
       "slam_code    0\n",
       "Sex          0\n",
       "dtype: int64"
      ]
     },
     "execution_count": 225,
     "metadata": {},
     "output_type": "execute_result"
    }
   ],
   "source": [
    "tennis_feat[tennis_feat.columns[:]].isnull().sum().sort_values()"
   ]
  },
  {
   "cell_type": "code",
   "execution_count": 226,
   "metadata": {
    "scrolled": true
   },
   "outputs": [
    {
     "data": {
      "text/plain": [
       "Index(['FSP.1', 'FSW.1', 'SSP.1', 'SSW.1', 'ACE.1', 'DBF.1', 'WNR.1', 'UFE.1',\n",
       "       'BPC.1', 'BPW.1', 'NPA.1', 'NPW.1', 'FSP.2', 'FSW.2', 'SSP.2', 'SSW.2',\n",
       "       'ACE.2', 'DBF.2', 'WNR.2', 'UFE.2', 'BPC.2', 'BPW.2', 'NPA.2', 'NPW.2'],\n",
       "      dtype='object')"
      ]
     },
     "execution_count": 226,
     "metadata": {},
     "output_type": "execute_result"
    }
   ],
   "source": [
    "tennis_feat.select_dtypes(include=[np.number]).columns"
   ]
  },
  {
   "cell_type": "code",
   "execution_count": 227,
   "metadata": {
    "collapsed": true
   },
   "outputs": [],
   "source": [
    "tennis_feat.to_csv('../results/Cleansed_data.csv')"
   ]
  },
  {
   "cell_type": "markdown",
   "metadata": {},
   "source": [
    "# EDA"
   ]
  },
  {
   "cell_type": "code",
   "execution_count": 228,
   "metadata": {
    "scrolled": false
   },
   "outputs": [
    {
     "data": {
      "image/png": "[encoded data removed]",
      "text/plain": [
       "<matplotlib.figure.Figure at 0x7f732d2f18d0>"
      ]
     },
     "metadata": {},
     "output_type": "display_data"
    }
   ],
   "source": [
    "plt.figure(figsize=(8,8))\n",
    "sns_heat = sns.heatmap(tennis_feat.corr(),cmap=\"YlGnBu\")\n",
    "plt.savefig(\"../results/Images/Heatplot.png\")"
   ]
  },
  {
   "cell_type": "code",
   "execution_count": 229,
   "metadata": {},
   "outputs": [
    {
     "data": {
      "image/png": "[encoded data removed]",
      "text/plain": [
       "<matplotlib.figure.Figure at 0x7f7327d42128>"
      ]
     },
     "metadata": {},
     "output_type": "display_data"
    }
   ],
   "source": [
    "Aces_slam = sns.factorplot(x=\"ACE.1\", y=\"Sex\", hue=\"slam_code\", data=tennis_feat, kind=\"box\")\n",
    "plt.savefig(\"../results/Images/Aces.png\")"
   ]
  },
  {
   "cell_type": "markdown",
   "metadata": {},
   "source": [
    "> We notice that the number of ACES is the least for French Open which is in line with what we expected"
   ]
  },
  {
   "cell_type": "code",
   "execution_count": 230,
   "metadata": {
    "scrolled": true
   },
   "outputs": [
    {
     "data": {
      "image/png": "[encoded data removed]",
      "text/plain": [
       "<matplotlib.figure.Figure at 0x7f732cd65f60>"
      ]
     },
     "metadata": {},
     "output_type": "display_data"
    }
   ],
   "source": [
    "Aces_dist = sns.jointplot(\"ACE.1\", \"ACE.2\", tennis_feat, kind=\"reg\")\n",
    "plt.savefig(\"../results/Images/Aces_dist.png\")"
   ]
  },
  {
   "cell_type": "markdown",
   "metadata": {},
   "source": [
    "> We notice that the ACEs served follow almost a Poisson like distribution"
   ]
  },
  {
   "cell_type": "code",
   "execution_count": 231,
   "metadata": {
    "scrolled": true
   },
   "outputs": [
    {
     "data": {
      "image/png": "[encoded data removed]",
      "text/plain": [
       "<matplotlib.figure.Figure at 0x7f732ca90588>"
      ]
     },
     "metadata": {},
     "output_type": "display_data"
    }
   ],
   "source": [
    "sns.distplot(tennis_feat['UFE.1'])\n",
    "plt.savefig(\"../results/Images/Unforced.png\")"
   ]
  },
  {
   "cell_type": "code",
   "execution_count": 232,
   "metadata": {
    "scrolled": false
   },
   "outputs": [
    {
     "data": {
      "image/png": "[encoded data removed]",
      "text/plain": [
       "<matplotlib.figure.Figure at 0x7f732d51b400>"
      ]
     },
     "metadata": {},
     "output_type": "display_data"
    }
   ],
   "source": [
    "sns.jointplot(tennis_feat['WNR.1'],tennis_feat['WNR.2'])\n",
    "plt.savefig(\"../results/Images/Winners_comp.png\")"
   ]
  },
  {
   "cell_type": "code",
   "execution_count": 233,
   "metadata": {
    "collapsed": true
   },
   "outputs": [],
   "source": [
    "df_desc = tennis_feat.select_dtypes(include = [np.number]).describe()"
   ]
  },
  {
   "cell_type": "code",
   "execution_count": 234,
   "metadata": {
    "collapsed": true
   },
   "outputs": [],
   "source": [
    "df_desc.to_csv('../results/Numeric_desription.csv')"
   ]
  },
  {
   "cell_type": "markdown",
   "metadata": {},
   "source": [
    "# ANALYSIS"
   ]
  },
  {
   "cell_type": "markdown",
   "metadata": {},
   "source": [
    "#### Feature scaling"
   ]
  },
  {
   "cell_type": "code",
   "execution_count": 235,
   "metadata": {
    "collapsed": true
   },
   "outputs": [],
   "source": [
    "def scale_matrix(matrix,num_feat,non_num_feat):\n",
    "    scl = StandardScaler()\n",
    "    scl_mat = scl.fit_transform(matrix[num_feat])\n",
    "    temp = np.concatenate((scl_mat,\n",
    "                    matrix[non_num_feat].as_matrix().astype('int')),\n",
    "                   axis = 1)\n",
    "#     temp = temp.astype(int)\n",
    "    return temp"
   ]
  },
  {
   "cell_type": "code",
   "execution_count": 236,
   "metadata": {
    "collapsed": true
   },
   "outputs": [],
   "source": [
    "#numeric columns\n",
    "numeric_features = tennis_feat.select_dtypes(include=[np.number]).columns\n",
    "\n",
    "#non-numeric columns\n",
    "non_num_features = tennis_feat.select_dtypes(exclude=[np.number]).columns"
   ]
  },
  {
   "cell_type": "code",
   "execution_count": 237,
   "metadata": {
    "collapsed": true
   },
   "outputs": [],
   "source": [
    "Features = list(numeric_features)+(list(non_num_features))"
   ]
  },
  {
   "cell_type": "code",
   "execution_count": 238,
   "metadata": {},
   "outputs": [
    {
     "name": "stdout",
     "output_type": "stream",
     "text": [
      "['FSP.1', 'FSW.1', 'SSP.1', 'SSW.1', 'ACE.1', 'DBF.1', 'WNR.1', 'UFE.1', 'BPC.1', 'BPW.1', 'NPA.1', 'NPW.1', 'FSP.2', 'FSW.2', 'SSP.2', 'SSW.2', 'ACE.2', 'DBF.2', 'WNR.2', 'UFE.2', 'BPC.2', 'BPW.2', 'NPA.2', 'NPW.2', 'Round', 'Result', 'slam_code', 'Sex']\n"
     ]
    }
   ],
   "source": [
    "print(Features)"
   ]
  },
  {
   "cell_type": "code",
   "execution_count": 239,
   "metadata": {
    "collapsed": true
   },
   "outputs": [],
   "source": [
    "tennis_scaled = pd.DataFrame(scale_matrix(tennis_feat,numeric_features,non_num_features))"
   ]
  },
  {
   "cell_type": "code",
   "execution_count": 240,
   "metadata": {
    "collapsed": true
   },
   "outputs": [],
   "source": [
    "tennis_scaled.columns = Features"
   ]
  },
  {
   "cell_type": "code",
   "execution_count": 241,
   "metadata": {
    "collapsed": true
   },
   "outputs": [],
   "source": [
    "col_names = ['Round','slam_code','Sex','Result']\n",
    "for col in col_names:\n",
    "    tennis_scaled[col] = tennis_scaled[col].astype('category',copy=False)"
   ]
  },
  {
   "cell_type": "markdown",
   "metadata": {},
   "source": [
    "#### Create dummy variables"
   ]
  },
  {
   "cell_type": "code",
   "execution_count": 242,
   "metadata": {
    "collapsed": true,
    "scrolled": true
   },
   "outputs": [],
   "source": [
    "tennis_dummy = pd.get_dummies(tennis_scaled)"
   ]
  },
  {
   "cell_type": "code",
   "execution_count": 243,
   "metadata": {
    "scrolled": true
   },
   "outputs": [
    {
     "data": {
      "text/plain": [
       "Index(['FSP.1', 'FSW.1', 'SSP.1', 'SSW.1', 'ACE.1', 'DBF.1', 'WNR.1', 'UFE.1',\n",
       "       'BPC.1', 'BPW.1', 'NPA.1', 'NPW.1', 'FSP.2', 'FSW.2', 'SSP.2', 'SSW.2',\n",
       "       'ACE.2', 'DBF.2', 'WNR.2', 'UFE.2', 'BPC.2', 'BPW.2', 'NPA.2', 'NPW.2',\n",
       "       'Round_1.0', 'Round_2.0', 'Round_3.0', 'Round_4.0', 'Round_5.0',\n",
       "       'Round_6.0', 'Round_7.0', 'Result_0.0', 'Result_1.0', 'slam_code_1.0',\n",
       "       'slam_code_2.0', 'slam_code_3.0', 'slam_code_4.0', 'Sex_1.0',\n",
       "       'Sex_2.0'],\n",
       "      dtype='object')"
      ]
     },
     "execution_count": 243,
     "metadata": {},
     "output_type": "execute_result"
    }
   ],
   "source": [
    "tennis_dummy.columns"
   ]
  },
  {
   "cell_type": "code",
   "execution_count": 244,
   "metadata": {},
   "outputs": [
    {
     "data": {
      "text/plain": [
       "473"
      ]
     },
     "execution_count": 244,
     "metadata": {},
     "output_type": "execute_result"
    }
   ],
   "source": [
    "tennis_dummy['Result_0.0'].sum()"
   ]
  },
  {
   "cell_type": "code",
   "execution_count": 245,
   "metadata": {
    "collapsed": true
   },
   "outputs": [],
   "source": [
    "rem_cols_dummy = ['Result_0.0','Sex_2.0','slam_code_1.0','slam_code_2.0',\n",
    "                  'slam_code_3.0','slam_code_4.0']\n",
    "\n",
    "tennis_final = tennis_dummy.drop(rem_cols_dummy,axis  = 1,inplace = False) "
   ]
  },
  {
   "cell_type": "code",
   "execution_count": 246,
   "metadata": {},
   "outputs": [
    {
     "data": {
      "text/plain": [
       "Index(['FSP.1', 'FSW.1', 'SSP.1', 'SSW.1', 'ACE.1', 'DBF.1', 'WNR.1', 'UFE.1',\n",
       "       'BPC.1', 'BPW.1', 'NPA.1', 'NPW.1', 'FSP.2', 'FSW.2', 'SSP.2', 'SSW.2',\n",
       "       'ACE.2', 'DBF.2', 'WNR.2', 'UFE.2', 'BPC.2', 'BPW.2', 'NPA.2', 'NPW.2',\n",
       "       'Round_1.0', 'Round_2.0', 'Round_3.0', 'Round_4.0', 'Round_5.0',\n",
       "       'Round_6.0', 'Round_7.0', 'Result_1.0', 'Sex_1.0'],\n",
       "      dtype='object')"
      ]
     },
     "execution_count": 246,
     "metadata": {},
     "output_type": "execute_result"
    }
   ],
   "source": [
    "tennis_final.columns"
   ]
  },
  {
   "cell_type": "markdown",
   "metadata": {},
   "source": [
    "### Split data"
   ]
  },
  {
   "cell_type": "code",
   "execution_count": 247,
   "metadata": {
    "collapsed": true
   },
   "outputs": [],
   "source": [
    "#Train-test split. 30% for test\n",
    "train_valid,test = train_test_split(tennis_final,test_size = 0.3,random_state=12345)\n",
    "train,valid = train_test_split(train_valid,test_size = 0.3,random_state=12345)"
   ]
  },
  {
   "cell_type": "code",
   "execution_count": 248,
   "metadata": {
    "collapsed": true
   },
   "outputs": [],
   "source": [
    "Xtrain = train.iloc[:, train.columns != \"Result_1.0\"]\n",
    "ytrain = train.iloc[:, train.columns == \"Result_1.0\"]\n",
    "\n",
    "Xvalid = valid.iloc[:, valid.columns != \"Result_1.0\"]\n",
    "yvalid = valid.iloc[:, valid.columns == \"Result_1.0\"]\n",
    "\n",
    "Xtest = test.iloc[:, test.columns != \"Result_1.0\"]\n",
    "ytest = test.iloc[:, test.columns == \"Result_1.0\"]"
   ]
  },
  {
   "cell_type": "code",
   "execution_count": 249,
   "metadata": {
    "scrolled": true
   },
   "outputs": [
    {
     "data": {
      "text/plain": [
       "Index(['FSP.1', 'FSW.1', 'SSP.1', 'SSW.1', 'ACE.1', 'DBF.1', 'WNR.1', 'UFE.1',\n",
       "       'BPC.1', 'BPW.1', 'NPA.1', 'NPW.1', 'FSP.2', 'FSW.2', 'SSP.2', 'SSW.2',\n",
       "       'ACE.2', 'DBF.2', 'WNR.2', 'UFE.2', 'BPC.2', 'BPW.2', 'NPA.2', 'NPW.2',\n",
       "       'Round_1.0', 'Round_2.0', 'Round_3.0', 'Round_4.0', 'Round_5.0',\n",
       "       'Round_6.0', 'Round_7.0', 'Sex_1.0'],\n",
       "      dtype='object')"
      ]
     },
     "execution_count": 249,
     "metadata": {},
     "output_type": "execute_result"
    }
   ],
   "source": [
    "Xtrain.columns"
   ]
  },
  {
   "cell_type": "code",
   "execution_count": 250,
   "metadata": {
    "collapsed": true
   },
   "outputs": [],
   "source": [
    "Xtrain = Xtrain.as_matrix()\n",
    "Xvalid = Xvalid.as_matrix()\n",
    "Xtest = Xtest.as_matrix()\n",
    "ytrain = np.ravel(ytrain.as_matrix())\n",
    "yvalid = np.ravel(yvalid.as_matrix())\n",
    "ytest = np.ravel(ytest.as_matrix())"
   ]
  },
  {
   "cell_type": "code",
   "execution_count": 251,
   "metadata": {
    "collapsed": true
   },
   "outputs": [],
   "source": [
    "XCross = np.concatenate((Xtrain,Xvalid))\n",
    "yCross = np.concatenate((ytrain,yvalid))"
   ]
  },
  {
   "cell_type": "markdown",
   "metadata": {},
   "source": [
    "## Knn"
   ]
  },
  {
   "cell_type": "code",
   "execution_count": 252,
   "metadata": {
    "collapsed": true
   },
   "outputs": [],
   "source": [
    "knn=neighbors.KNeighborsClassifier()"
   ]
  },
  {
   "cell_type": "code",
   "execution_count": 253,
   "metadata": {
    "scrolled": false
   },
   "outputs": [
    {
     "name": "stdout",
     "output_type": "stream",
     "text": [
      "gs.best_score_: 0.8803680981595092\n",
      "Param value {'n_neighbors': 21}\n"
     ]
    }
   ],
   "source": [
    "parameters = {\n",
    "        'n_neighbors': np.arange(1,25)\n",
    "    }\n",
    "clf = GridSearchCV(knn, parameters, cv=5)\n",
    "clf.fit(XCross,yCross)\n",
    "print ('gs.best_score_:', clf.best_score_)\n",
    "print('Param value',clf.best_params_)"
   ]
  },
  {
   "cell_type": "code",
   "execution_count": 254,
   "metadata": {
    "scrolled": true
   },
   "outputs": [
    {
     "data": {
      "image/png": "[encoded data removed]",
      "text/plain": [
       "<matplotlib.figure.Figure at 0x7f732c2bd8d0>"
      ]
     },
     "metadata": {},
     "output_type": "display_data"
    }
   ],
   "source": [
    "scores = [x[1] for x in clf.grid_scores_]\n",
    "scores = np.array(scores).reshape(len(np.arange(1,25)))\n",
    "scores\n",
    "\n",
    "plt.plot(np.arange(1,25), scores)\n",
    "plt.legend()\n",
    "plt.xlabel('k')\n",
    "plt.ylabel('Mean score')\n",
    "plt.title('Mean score vs k')\n",
    "plt.savefig('../results/Images/knn_score.png')"
   ]
  },
  {
   "cell_type": "code",
   "execution_count": 255,
   "metadata": {
    "scrolled": true
   },
   "outputs": [
    {
     "name": "stdout",
     "output_type": "stream",
     "text": [
      "Train score: 0.872807017544\n",
      "Validation score: 0.857142857143\n",
      "Test score: 0.882142857143\n"
     ]
    }
   ],
   "source": [
    "knn=neighbors.KNeighborsClassifier(n_neighbors=23)\n",
    "knn.fit(Xtrain,ytrain)\n",
    "print ('Train score:', knn.score(Xtrain,ytrain))\n",
    "print ('Validation score:', knn.score(Xvalid,yvalid))\n",
    "print ('Test score:', knn.score(Xtest,ytest))\n",
    "# print('Param value',gs.best_params_)"
   ]
  },
  {
   "cell_type": "markdown",
   "metadata": {},
   "source": [
    "## Random forest classifer"
   ]
  },
  {
   "cell_type": "code",
   "execution_count": 256,
   "metadata": {},
   "outputs": [
    {
     "name": "stdout",
     "output_type": "stream",
     "text": [
      "Train score 0.995614035088\n",
      "Validation score 0.857142857143\n",
      "Test score 0.85\n"
     ]
    }
   ],
   "source": [
    "rnf = RandomForestClassifier()\n",
    "rnf.fit(Xtrain, ytrain)\n",
    "print(\"Train score\",rnf.score(Xtrain,ytrain))\n",
    "print(\"Validation score\",rnf.score(Xvalid,yvalid))\n",
    "print(\"Test score\",rnf.score(Xtest,ytest))"
   ]
  },
  {
   "cell_type": "markdown",
   "metadata": {},
   "source": [
    "## Logistic with penalty"
   ]
  },
  {
   "cell_type": "code",
   "execution_count": 257,
   "metadata": {
    "scrolled": false
   },
   "outputs": [
    {
     "name": "stdout",
     "output_type": "stream",
     "text": [
      "gs.best_score_: 0.9371165644171779\n",
      "Param value {'C': 1.0}\n"
     ]
    },
    {
     "data": {
      "text/plain": [
       "[mean: 0.88190, std: 0.04209, params: {'C': 9.9999999999999995e-07},\n",
       " mean: 0.88190, std: 0.04209, params: {'C': 1.0000000000000001e-05},\n",
       " mean: 0.88497, std: 0.04164, params: {'C': 0.0001},\n",
       " mean: 0.89724, std: 0.04034, params: {'C': 0.001},\n",
       " mean: 0.91564, std: 0.04056, params: {'C': 0.01},\n",
       " mean: 0.92638, std: 0.04106, params: {'C': 0.10000000000000001},\n",
       " mean: 0.93712, std: 0.03878, params: {'C': 1.0},\n",
       " mean: 0.92945, std: 0.04293, params: {'C': 10.0},\n",
       " mean: 0.92791, std: 0.04618, params: {'C': 100.0},\n",
       " mean: 0.92791, std: 0.04618, params: {'C': 1000.0},\n",
       " mean: 0.92791, std: 0.04618, params: {'C': 10000.0},\n",
       " mean: 0.92791, std: 0.04618, params: {'C': 100000.0}]"
      ]
     },
     "execution_count": 257,
     "metadata": {},
     "output_type": "execute_result"
    }
   ],
   "source": [
    "grid = {\n",
    "        'C': np.power(10.0, np.arange(-6, 6))\n",
    "    }\n",
    "clf = LogisticRegression(penalty='l2', random_state=1234)\n",
    "gs = GridSearchCV(clf, grid,cv=20)\n",
    "gs.fit(XCross, yCross)\n",
    "\n",
    "print ('gs.best_score_:', gs.best_score_)\n",
    "print('Param value',gs.best_params_)\n",
    "gs.grid_scores_"
   ]
  },
  {
   "cell_type": "code",
   "execution_count": 258,
   "metadata": {},
   "outputs": [
    {
     "data": {
      "image/png": "[encoded data removed]",
      "text/plain": [
       "<matplotlib.figure.Figure at 0x7f732cd00780>"
      ]
     },
     "metadata": {},
     "output_type": "display_data"
    }
   ],
   "source": [
    "scores = [x[1] for x in gs.grid_scores_]\n",
    "scores = np.array(scores).reshape(len(np.power(10.0, np.arange(-6, 6))))\n",
    "\n",
    "plt.figure(figsize = (12,12))\n",
    "ax = plt.subplot(224)\n",
    "plt.plot(np.power(10.0, np.arange(-6, 6)), scores)\n",
    "plt.legend()\n",
    "plt.xlabel('C')\n",
    "plt.ylabel('Mean score')\n",
    "ax.set_xscale(\"log\", nonposx='clip')\n",
    "plt.title('Penalty vs Score - L2')\n",
    "plt.savefig('../results/Images/Log_L2_score.png')"
   ]
  },
  {
   "cell_type": "code",
   "execution_count": 259,
   "metadata": {
    "scrolled": true
   },
   "outputs": [
    {
     "name": "stdout",
     "output_type": "stream",
     "text": [
      "gs.best_score_: 0.9340490797546013\n",
      "Param value {'C': 1.0}\n"
     ]
    },
    {
     "data": {
      "text/plain": [
       "[mean: 0.51687, std: 0.00479, params: {'C': 9.9999999999999995e-07},\n",
       " mean: 0.51687, std: 0.00479, params: {'C': 1.0000000000000001e-05},\n",
       " mean: 0.51687, std: 0.00479, params: {'C': 0.0001},\n",
       " mean: 0.51687, std: 0.00479, params: {'C': 0.001},\n",
       " mean: 0.89877, std: 0.03922, params: {'C': 0.01},\n",
       " mean: 0.92791, std: 0.03863, params: {'C': 0.10000000000000001},\n",
       " mean: 0.93405, std: 0.03753, params: {'C': 1.0},\n",
       " mean: 0.92791, std: 0.04618, params: {'C': 10.0},\n",
       " mean: 0.92791, std: 0.04618, params: {'C': 100.0},\n",
       " mean: 0.92791, std: 0.04618, params: {'C': 1000.0},\n",
       " mean: 0.92791, std: 0.04618, params: {'C': 10000.0},\n",
       " mean: 0.92791, std: 0.04618, params: {'C': 100000.0}]"
      ]
     },
     "execution_count": 259,
     "metadata": {},
     "output_type": "execute_result"
    }
   ],
   "source": [
    "grid = {\n",
    "        'C': np.power(10.0, np.arange(-6, 6))\n",
    "    }\n",
    "clf = LogisticRegression(penalty='l1', random_state=1234)\n",
    "gs = GridSearchCV(clf, grid, cv=20)\n",
    "gs.fit(XCross, yCross)\n",
    "\n",
    "print ('gs.best_score_:', gs.best_score_)\n",
    "print('Param value',gs.best_params_)\n",
    "gs.grid_scores_"
   ]
  },
  {
   "cell_type": "code",
   "execution_count": 260,
   "metadata": {},
   "outputs": [
    {
     "data": {
      "image/png": "[encoded data removed]",
      "text/plain": [
       "<matplotlib.figure.Figure at 0x7f732c9af630>"
      ]
     },
     "metadata": {},
     "output_type": "display_data"
    }
   ],
   "source": [
    "scores = [x[1] for x in gs.grid_scores_]\n",
    "scores = np.array(scores).reshape(len(np.power(10.0, np.arange(-6, 6))))\n",
    "\n",
    "plt.figure(figsize = (12,12))\n",
    "ax = plt.subplot(224)\n",
    "plt.plot(np.power(10.0, np.arange(-6, 6)), scores)\n",
    "plt.legend()\n",
    "plt.xlabel('C')\n",
    "plt.ylabel('Mean score')\n",
    "ax.set_xscale(\"log\", nonposx='clip')\n",
    "plt.title('Penalty vs Score - L1')\n",
    "plt.savefig('../results/Images/Log_L1_score.png')"
   ]
  },
  {
   "cell_type": "code",
   "execution_count": 261,
   "metadata": {},
   "outputs": [
    {
     "name": "stdout",
     "output_type": "stream",
     "text": [
      "gs.best_score_: 0.9371165644171779\n",
      "Param value {'C': 1.0}\n"
     ]
    },
    {
     "data": {
      "text/plain": [
       "[mean: 0.93712, std: 0.03878, params: {'C': 1.0},\n",
       " mean: 0.92945, std: 0.04293, params: {'C': 10.0},\n",
       " mean: 0.92791, std: 0.04618, params: {'C': 100.0}]"
      ]
     },
     "execution_count": 261,
     "metadata": {},
     "output_type": "execute_result"
    }
   ],
   "source": [
    "from sklearn.grid_search import GridSearchCV\n",
    "grid = {\n",
    "        'C': np.power(10.0, np.arange(0, 3))\n",
    "    }\n",
    "clf = LogisticRegression(penalty='l2', random_state=1234)\n",
    "gs = GridSearchCV(clf, grid,cv=20)\n",
    "gs.fit(XCross, yCross)\n",
    "\n",
    "print ('gs.best_score_:', gs.best_score_)\n",
    "print('Param value',gs.best_params_)\n",
    "gs.grid_scores_"
   ]
  },
  {
   "cell_type": "code",
   "execution_count": 262,
   "metadata": {},
   "outputs": [
    {
     "name": "stdout",
     "output_type": "stream",
     "text": [
      "gs.best_score_: 0.9340490797546013\n",
      "Param value {'C': 1.0}\n"
     ]
    },
    {
     "data": {
      "text/plain": [
       "[mean: 0.89877, std: 0.03922, params: {'C': 0.01},\n",
       " mean: 0.92791, std: 0.03863, params: {'C': 0.10000000000000001},\n",
       " mean: 0.93405, std: 0.03753, params: {'C': 1.0}]"
      ]
     },
     "execution_count": 262,
     "metadata": {},
     "output_type": "execute_result"
    }
   ],
   "source": [
    "grid = {\n",
    "        'C': np.power(10.0, np.arange(-2, 1))\n",
    "    }\n",
    "clf = LogisticRegression(penalty='l1', random_state=1234)\n",
    "gs = GridSearchCV(clf, grid, cv=20)\n",
    "gs.fit(XCross, yCross)\n",
    "\n",
    "print ('gs.best_score_:', gs.best_score_)\n",
    "print('Param value',gs.best_params_)\n",
    "gs.grid_scores_"
   ]
  },
  {
   "cell_type": "code",
   "execution_count": 263,
   "metadata": {
    "scrolled": false
   },
   "outputs": [
    {
     "name": "stdout",
     "output_type": "stream",
     "text": [
      "Num Features: %d [[ 0.          4.12765726  0.          1.50251977 -0.33924319 -0.32310677\n",
      "   0.30912554 -0.19551765  1.33035268  1.27022126 -0.00847301 -0.03088762\n",
      "  -0.07310407 -3.95471197  0.02986788 -1.8947038   0.054226    0.30009344\n",
      "  -0.16963204  0.05418553 -1.17120191 -1.2065798  -0.09870478  0.25024367\n",
      "   0.          0.          0.          0.          0.          0.          0.\n",
      "  -0.07767675]]\n",
      "Selected Features: %s [-0.10355927]\n",
      "Actual number of iterations for all classes:  [24]\n",
      "Mean accuracy  of training data: 94.52%\n",
      "Mean accuracy  of validation data: 96.43\n",
      "Mean accuracy  of test data: 93.21\n"
     ]
    }
   ],
   "source": [
    "lg = LogisticRegression(penalty = 'l1',C=1)\n",
    "lg.fit(Xtrain,ytrain)\n",
    "\n",
    "print(\"Num Features: %d\",lg.coef_)\n",
    "print(\"Selected Features: %s\",lg.intercept_)\n",
    "print('Actual number of iterations for all classes: ', lg.n_iter_)\n",
    "\n",
    "# Compute the training accuracy\n",
    "print('Mean accuracy  of training data: {0:.2f}%'\n",
    "      .format(100 * lg.score(Xtrain, ytrain)))\n",
    "# # Compute the validation accuracy\n",
    "print('Mean accuracy  of validation data: {0:.2f}'\n",
    "      .format(100 * lg.score(Xvalid, yvalid)))\n",
    "# # # Compute the test accuracy\n",
    "print('Mean accuracy  of test data: {0:.2f}'\n",
    "      .format(100 * lg.score(Xtest, ytest)))"
   ]
  },
  {
   "cell_type": "code",
   "execution_count": 264,
   "metadata": {
    "scrolled": true
   },
   "outputs": [
    {
     "data": {
      "text/plain": [
       "Index(['FSP.1', 'FSW.1', 'SSP.1', 'SSW.1', 'ACE.1', 'DBF.1', 'WNR.1', 'UFE.1',\n",
       "       'BPC.1', 'BPW.1', 'NPA.1', 'NPW.1', 'FSP.2', 'FSW.2', 'SSP.2', 'SSW.2',\n",
       "       'ACE.2', 'DBF.2', 'WNR.2', 'UFE.2', 'BPC.2', 'BPW.2', 'NPA.2', 'NPW.2',\n",
       "       'Round_1.0', 'Round_2.0', 'Round_3.0', 'Round_4.0', 'Round_5.0',\n",
       "       'Round_6.0', 'Round_7.0', 'Sex_1.0'],\n",
       "      dtype='object')"
      ]
     },
     "execution_count": 264,
     "metadata": {},
     "output_type": "execute_result"
    }
   ],
   "source": [
    "train.iloc[:, train.columns != \"Result_1.0\"].columns"
   ]
  },
  {
   "cell_type": "code",
   "execution_count": 265,
   "metadata": {
    "collapsed": true
   },
   "outputs": [],
   "source": [
    "col_list = list(train.iloc[:, train.columns != \"Result_1.0\"].columns)"
   ]
  },
  {
   "cell_type": "code",
   "execution_count": 266,
   "metadata": {
    "collapsed": true
   },
   "outputs": [],
   "source": [
    "coef = np.ravel(lg.coef_).tolist()"
   ]
  },
  {
   "cell_type": "code",
   "execution_count": 267,
   "metadata": {
    "collapsed": true,
    "scrolled": false
   },
   "outputs": [],
   "source": [
    "a = list(zip(col_list,coef))"
   ]
  },
  {
   "cell_type": "code",
   "execution_count": 268,
   "metadata": {
    "collapsed": true
   },
   "outputs": [],
   "source": [
    "#https://stackoverflow.com/a/7142240S\n",
    "a.sort(key = lambda t: t[1],reverse=True)"
   ]
  },
  {
   "cell_type": "markdown",
   "metadata": {},
   "source": [
    "### Feature importance"
   ]
  },
  {
   "cell_type": "code",
   "execution_count": 269,
   "metadata": {
    "scrolled": false
   },
   "outputs": [
    {
     "data": {
      "text/plain": [
       "[('FSW.1', 4.127657260457964),\n",
       " ('SSW.1', 1.502519773711783),\n",
       " ('BPC.1', 1.3303526759566324),\n",
       " ('BPW.1', 1.2702212574420157),\n",
       " ('WNR.1', 0.3091255440540022),\n",
       " ('DBF.2', 0.3000934372024597),\n",
       " ('NPW.2', 0.25024366788590463),\n",
       " ('ACE.2', 0.05422600205515303),\n",
       " ('UFE.2', 0.05418552838497939),\n",
       " ('SSP.2', 0.029867875902631763),\n",
       " ('FSP.1', 0.0),\n",
       " ('SSP.1', 0.0),\n",
       " ('Round_1.0', 0.0),\n",
       " ('Round_2.0', 0.0),\n",
       " ('Round_3.0', 0.0),\n",
       " ('Round_4.0', 0.0),\n",
       " ('Round_5.0', 0.0),\n",
       " ('Round_6.0', 0.0),\n",
       " ('Round_7.0', 0.0),\n",
       " ('NPA.1', -0.008473014723651466),\n",
       " ('NPW.1', -0.030887615634505733),\n",
       " ('FSP.2', -0.07310406861816467),\n",
       " ('Sex_1.0', -0.07767674677235822),\n",
       " ('NPA.2', -0.09870478228086518),\n",
       " ('WNR.2', -0.16963203932725074),\n",
       " ('UFE.1', -0.19551765063594437),\n",
       " ('DBF.1', -0.3231067727858632),\n",
       " ('ACE.1', -0.3392431851605817),\n",
       " ('BPC.2', -1.1712019112824281),\n",
       " ('BPW.2', -1.2065798038652635),\n",
       " ('SSW.2', -1.8947037986398292),\n",
       " ('FSW.2', -3.954711965212561)]"
      ]
     },
     "execution_count": 269,
     "metadata": {},
     "output_type": "execute_result"
    }
   ],
   "source": [
    "a"
   ]
  }
 ],
 "metadata": {
  "kernelspec": {
   "display_name": "Python 3",
   "language": "python",
   "name": "python3"
  },
  "language_info": {
   "codemirror_mode": {
    "name": "ipython",
    "version": 3
   },
   "file_extension": ".py",
   "mimetype": "text/x-python",
   "name": "python",
   "nbconvert_exporter": "python",
   "pygments_lexer": "ipython3",
   "version": "3.6.3"
  }
 },
 "nbformat": 4,
 "nbformat_minor": 2
}
